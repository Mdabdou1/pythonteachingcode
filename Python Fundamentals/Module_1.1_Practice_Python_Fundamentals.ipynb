{
 "cells": [
  {
   "cell_type": "markdown",
   "metadata": {},
   "source": [
    "# Module 1 Practice - Python Fundamentals\n",
    "## Sequence: String\n",
    "\n",
    "<font size=\"5\" color=\"#00A0B2\"  face=\"verdana\"> <B>Student will be able to</B></font>  \n",
    "- Work with String Characters\n",
    "- Slice strings into substrings\n",
    "- Iterate through String Characters\n",
    "- Use String ~~Tricks~~ Methods"
   ]
  },
  {
   "cell_type": "markdown",
   "metadata": {},
   "source": [
    "# &nbsp;\n",
    "<font size=\"6\" color=\"#B24C00\"  face=\"verdana\"> <B>Task 1</B></font>\n",
    "##  Access String Characters \n",
    "### `working_string[index]`\n"
   ]
  },
  {
   "cell_type": "code",
   "execution_count": 1,
   "metadata": {},
   "outputs": [
    {
     "name": "stdout",
     "output_type": "stream",
     "text": [
      "u\n"
     ]
    }
   ],
   "source": [
    "\n",
    "# access and print the second character from planet_name: \"u\"\n",
    "planet_name = \"Jupiter\"\n",
    "print(planet_name[1])  # Output: u\n"
   ]
  },
  {
   "cell_type": "code",
   "execution_count": 2,
   "metadata": {},
   "outputs": [
    {
     "name": "stdout",
     "output_type": "stream",
     "text": [
      "J\n"
     ]
    }
   ],
   "source": [
    "# access and print the first character from planet_name: \"J\"\n",
    "planet_name = \"Jupiter\"\n",
    "print(planet_name[0])  # Output: J\n"
   ]
  },
  {
   "cell_type": "code",
   "execution_count": 3,
   "metadata": {},
   "outputs": [
    {
     "name": "stdout",
     "output_type": "stream",
     "text": [
      "J r\n"
     ]
    }
   ],
   "source": [
    "# access and print the first and last characters from planet_name\n",
    "planet_name = \"Jupiter\"\n",
    "print(planet_name[0], planet_name[-1])  # Output: J r\n"
   ]
  },
  {
   "cell_type": "code",
   "execution_count": 4,
   "metadata": {},
   "outputs": [
    {
     "name": "stdout",
     "output_type": "stream",
     "text": [
      "J\n"
     ]
    }
   ],
   "source": [
    "# using a negative index access and print the first character from planet_name: \"J\"\n",
    "planet_name = \"Jupiter\"\n",
    "print(planet_name[-7])  # Output: J\n"
   ]
  },
  {
   "cell_type": "markdown",
   "metadata": {},
   "source": [
    "# &nbsp;\n",
    "<font size=\"6\" color=\"#B24C00\"  face=\"verdana\"> <B>Task 2</B></font>\n",
    "## slice\n",
    "### `working_string[start:stop]`\n",
    "### `working_string[start:stop:step]`"
   ]
  },
  {
   "cell_type": "code",
   "execution_count": 5,
   "metadata": {},
   "outputs": [
    {
     "name": "stdout",
     "output_type": "stream",
     "text": [
      "Nep\n",
      "tune\n"
     ]
    }
   ],
   "source": [
    "# print planet_name sliced into the first 3 characters and remaining characters\n",
    "planet_name = \"Neptune\"\n",
    "print(planet_name[:3])  # Nep\n",
    "print(planet_name[3:])  # tune\n"
   ]
  },
  {
   "cell_type": "code",
   "execution_count": 6,
   "metadata": {},
   "outputs": [
    {
     "name": "stdout",
     "output_type": "stream",
     "text": [
      "Python\n"
     ]
    }
   ],
   "source": [
    "# print 1st char and then every 3rd char of wise_words\n",
    "wise_words = 'Play it who opens'\n",
    "print(wise_words[0::3])  # Pythhn\n"
   ]
  },
  {
   "cell_type": "code",
   "execution_count": 7,
   "metadata": {},
   "outputs": [
    {
     "name": "stdout",
     "output_type": "stream",
     "text": [
      "enutpeN\n"
     ]
    }
   ],
   "source": [
    "# print planet_name in reverse\n",
    "planet_name = \"Neptune\"\n",
    "print(planet_name[::-1])  # enutpeN\n"
   ]
  },
  {
   "cell_type": "markdown",
   "metadata": {
    "collapsed": true
   },
   "source": [
    "# &nbsp;\n",
    "<font size=\"6\" color=\"#B24C00\"  face=\"verdana\"> <B>Task 3</B></font>\n",
    "\n",
    "## iterate a String\n",
    "### `for letter in sentence:`"
   ]
  },
  {
   "cell_type": "code",
   "execution_count": 8,
   "metadata": {},
   "outputs": [
    {
     "name": "stdout",
     "output_type": "stream",
     "text": [
      "f\n",
      "o\n",
      "o\n",
      "d\n"
     ]
    }
   ],
   "source": [
    "# Get user input and iterate each letter\n",
    "fav_food = input(\"Enter your favorite food: \")\n",
    "for letter in fav_food:\n",
    "    print(letter)\n"
   ]
  },
  {
   "cell_type": "code",
   "execution_count": 9,
   "metadata": {},
   "outputs": [
    {
     "name": "stdout",
     "output_type": "stream",
     "text": [
      "Good-code-is-commented-code\n"
     ]
    }
   ],
   "source": [
    "# [ ] iterate work_tip string concatenate each letter to variable: new_string \n",
    "# [ ] concatenate the letter or a \"-\" instead of a space \" \"\n",
    "# tip: concatenate string example: word = word + \"a\"\n",
    "# iterate work_tip and replace space with \"-\"\n",
    "work_tip = \"Good code is commented code\"\n",
    "new_string = \"\"\n",
    "for letter in work_tip:\n",
    "    if letter == \" \":\n",
    "        new_string += \"-\"\n",
    "    else:\n",
    "        new_string += letter\n",
    "print(new_string)\n",
    "\n",
    "\n",
    "\n"
   ]
  },
  {
   "cell_type": "code",
   "execution_count": 10,
   "metadata": {},
   "outputs": [
    {
     "name": "stdout",
     "output_type": "stream",
     "text": [
      "H\n",
      "i\n",
      "r\n",
      "o\n"
     ]
    }
   ],
   "source": [
    "\n",
    "\n",
    "# Print the first 4 letters of name on new line\n",
    "name = \"Hiroto\"\n",
    "for letter in name[:4]:\n",
    "    print(letter)\n"
   ]
  },
  {
   "cell_type": "code",
   "execution_count": 11,
   "metadata": {},
   "outputs": [
    {
     "name": "stdout",
     "output_type": "stream",
     "text": [
      "ioo\n"
     ]
    }
   ],
   "source": [
    "# [ ] Print every other letter from 2nd to last letter of name \n",
    "\n",
    "name = \"Hiroto\"\n",
    "print(name[1::2])  # ioo\n",
    "\n"
   ]
  },
  {
   "cell_type": "markdown",
   "metadata": {},
   "source": [
    "# &nbsp;\n",
    "<font size=\"6\" color=\"#B24C00\"  face=\"verdana\"> <B>Task 4</B></font>\n",
    "\n",
    "## Program: Mystery Name\n",
    "- get user input for first_name\n",
    "- create an empty string variable: new_name\n",
    "- iterate through letters in first_name Backwards \n",
    "  - add each letter to new_name as you iterate\n",
    "  - Replace the letter if \"e\", \"t\" or \"a\" with \"?\" *(hint: if, elif, elif, else)*\n",
    "- print new_name  \n",
    "\n",
    "**example: \"Alton\" = \"no?l?\"**"
   ]
  },
  {
   "cell_type": "code",
   "execution_count": 12,
   "metadata": {},
   "outputs": [
    {
     "name": "stdout",
     "output_type": "stream",
     "text": [
      "Mystery Name: biq?s\n"
     ]
    }
   ],
   "source": [
    "# [ ] Create Mystery Name\n",
    "\n",
    "first_name = input(\"Enter your first name: \")\n",
    "new_name = \"\"\n",
    "for letter in reversed(first_name):\n",
    "    if letter.lower() in [\"e\", \"t\", \"a\"]:\n",
    "        new_name += \"?\"\n",
    "    else:\n",
    "        new_name += letter\n",
    "print(\"Mystery Name:\", new_name)\n"
   ]
  },
  {
   "cell_type": "markdown",
   "metadata": {},
   "source": [
    "# &nbsp;\n",
    "<font size=\"6\" color=\"#B24C00\"  face=\"verdana\"> <B>Task 4</B></font>\n",
    "## `len(), .find(), .count()`   \n",
    "\n",
    "```  \n",
    "- len(working_string)\n",
    "- .find(\"i\")\n",
    "- .find(\"i\",start)\n",
    "- .find(\"i\", start, end)\n",
    "- .count(\"i\")\n",
    "- .count(\"i\", start)\n",
    "- .count(\"i\", start, end)\n",
    "```   "
   ]
  },
  {
   "cell_type": "code",
   "execution_count": 13,
   "metadata": {},
   "outputs": [
    {
     "name": "stdout",
     "output_type": "stream",
     "text": [
      "36\n"
     ]
    }
   ],
   "source": [
    "# [ ] find and display the length of the string: topic\n",
    "topic = \"len() returns the length of a string\"\n",
    "print(len(topic))\n"
   ]
  },
  {
   "cell_type": "code",
   "execution_count": 14,
   "metadata": {},
   "outputs": [
    {
     "name": "stdout",
     "output_type": "stream",
     "text": [
      "28\n"
     ]
    }
   ],
   "source": [
    "# [ ] use len() to find and display the mid_pt (middle) index (+/- 1) of the string: topic\n",
    "# note: index values are whole numbers\n",
    "\n",
    "topic = \"len() can take a sequence, like a string, as an argument\"\n",
    "mid_pt = len(topic) // 2\n",
    "print(mid_pt)\n",
    "\n",
    "\n"
   ]
  },
  {
   "cell_type": "code",
   "execution_count": 15,
   "metadata": {},
   "outputs": [
    {
     "name": "stdout",
     "output_type": "stream",
     "text": [
      "5\n"
     ]
    }
   ],
   "source": [
    "# [ ] print index where first instance of the word  \"code\" starts using .find()\n",
    "\n",
    "work_tip = \"Good code is commented code\"\n",
    "print(work_tip.find(\"code\"))  # Output: 5\n",
    "\n",
    "\n"
   ]
  },
  {
   "cell_type": "code",
   "execution_count": 16,
   "metadata": {},
   "outputs": [
    {
     "name": "stdout",
     "output_type": "stream",
     "text": [
      "code found at index: 23\n"
     ]
    }
   ],
   "source": [
    "# [ ] search for \"code\" in code_tip using .find() \n",
    "# [ ] search substring with substring index start= 13,end = last char \n",
    "# [ ] save result in variable: code_index\n",
    "# [ ] display index of where \"code\" is found, or print \"not found\" if code_index == -1\n",
    "# find \"code\" after index 13\n",
    "work_tip = \"Good code is commented code\"\n",
    "code_index = work_tip.find(\"code\", 13)\n",
    "if code_index == -1:\n",
    "    print(\"not found\")\n",
    "else:\n",
    "    print(\"code found at index:\", code_index)\n",
    "\n",
    "\n"
   ]
  },
  {
   "cell_type": "markdown",
   "metadata": {
    "collapsed": true
   },
   "source": [
    "# &nbsp;\n",
    "<font size=\"6\" color=\"#B24C00\"  face=\"verdana\"> <B>Task 5</B></font>"
   ]
  },
  {
   "cell_type": "code",
   "execution_count": 17,
   "metadata": {},
   "outputs": [
    {
     "name": "stdout",
     "output_type": "stream",
     "text": [
      "w: 0\n",
      "o: 5\n",
      "code: 2\n"
     ]
    }
   ],
   "source": [
    "# [ ] find and report (print) number of w's, o's + use of word \"code\"\n",
    "work_tip = \"Good code is commented code\"\n",
    "\n",
    "print(\"w:\", work_tip.count(\"w\"))\n",
    "print(\"o:\", work_tip.count(\"o\"))\n",
    "print(\"code:\", work_tip.count(\"code\"))\n"
   ]
  },
  {
   "cell_type": "code",
   "execution_count": 18,
   "metadata": {},
   "outputs": [
    {
     "name": "stdout",
     "output_type": "stream",
     "text": [
      "i count: 6\n",
      "i found at index: 11\n",
      "i found at index: 13\n",
      "i found at index: 22\n",
      "i found at index: 24\n",
      "i found at index: 29\n",
      "i found at index: 47\n"
     ]
    }
   ],
   "source": [
    "# [ ]  count times letter \"i\" appears in code_tip string\n",
    "# [ ] find and display the index of all the letter i's in code_tip\n",
    "# Remember: if .find(\"i\") has No Match, -1 is returned\n",
    "# count \"i\" and find all indices\n",
    "code_tip = \"code a conditional decision like you would say it\"\n",
    "print(\"i count:\", code_tip.count(\"i\"))\n",
    "\n",
    "index = -1\n",
    "while True:\n",
    "    index = code_tip.find(\"i\", index + 1)\n",
    "    if index == -1:\n",
    "        break\n",
    "    print(\"i found at index:\", index)\n",
    "\n",
    "\n"
   ]
  },
  {
   "cell_type": "markdown",
   "metadata": {},
   "source": [
    "# &nbsp;\n",
    "<font size=\"6\" color=\"#B24C00\"  face=\"verdana\"> <B>Task 6</B></font>\n",
    "\n",
    "## Program: Words after \"G\"/\"g\"\n",
    "Create a program inputs a phrase (like a famous quotation) and prints all of the words that start with h-z\n",
    "\n",
    "Sample input:  \n",
    "`enter a 1 sentence quote, non-alpha separate words:` **`Wheresoever you go, go with all your heart`**  \n",
    "\n",
    "Sample output:\n",
    "```\n",
    "WHERESOEVER\n",
    "YOU\n",
    "WITH\n",
    "YOUR\n",
    "HEART\n",
    "```\n",
    "- split the words by building a placeholder variable: **`word`**  \n",
    "  - loop each character in the input string  \n",
    "  - check if character is a letter  \n",
    "  - add a letter to **`word`** each loop until a non-alpha char is encountered  \n",
    "\n",
    "- **if** character is alpha \n",
    "  - add character to **`word`**    \n",
    "  - non-alpha detected (space, punctuation, digit,...) defines the end of a word and goes to **`else`**    \n",
    "- **`else`**  \n",
    "  - check **`if`** word is greater than \"g\" alphabetically\n",
    "      - print word \n",
    "      - set word = empty string\n",
    "  - or **else** \n",
    "    - set word = empty string and build the next word  \n",
    "\n",
    "Hint: use `.lower()`"
   ]
  },
  {
   "cell_type": "code",
   "execution_count": 20,
   "metadata": {},
   "outputs": [
    {
     "name": "stdout",
     "output_type": "stream",
     "text": [
      "WHERESOEVER\n",
      "YOU\n",
      "GO\n",
      "GO\n",
      "WITH\n",
      "YOUR\n",
      "HEART\n"
     ]
    }
   ],
   "source": [
    "# [] create words after \"G\"\n",
    "# sample quote \"Wheresoever you go, go with all your heart\" ~ Confucius (551 BC - 479 BC)\n",
    "\n",
    "# Words that start after 'g'\n",
    "quote = input(\"Enter a quote: \")\n",
    "word = \"\"\n",
    "for char in quote:\n",
    "    if char.isalpha():\n",
    "        word += char\n",
    "    else:\n",
    "        if word.lower() > 'g':\n",
    "            print(word.upper())\n",
    "        word = \"\"\n",
    "# check last word if quote didn't end with punctuation\n",
    "if word and word.lower() > 'g':\n",
    "    print(word.upper())\n"
   ]
  },
  {
   "cell_type": "markdown",
   "metadata": {
    "collapsed": true
   },
   "source": [
    "[Terms of use](http://go.microsoft.com/fwlink/?LinkID=206977) &nbsp; [Privacy & cookies](https://go.microsoft.com/fwlink/?LinkId=521839) &nbsp; © 2017 Microsoft"
   ]
  }
 ],
 "metadata": {
  "anaconda-cloud": {},
  "kernelspec": {
   "display_name": "Python 3",
   "language": "python",
   "name": "python3"
  },
  "language_info": {
   "codemirror_mode": {
    "name": "ipython",
    "version": 3
   },
   "file_extension": ".py",
   "mimetype": "text/x-python",
   "name": "python",
   "nbconvert_exporter": "python",
   "pygments_lexer": "ipython3",
   "version": "3.13.2"
  }
 },
 "nbformat": 4,
 "nbformat_minor": 1
}
