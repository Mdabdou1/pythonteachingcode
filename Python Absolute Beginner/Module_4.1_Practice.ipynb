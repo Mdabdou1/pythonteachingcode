{
 "cells": [
  {
   "cell_type": "markdown",
   "metadata": {},
   "source": [
    "# Module 4 Practice\n",
    "## Nested Conditionals\n",
    "<font size=\"5\" color=\"#00A0B2\"  face=\"verdana\"> <B>Student will be able to</B></font>\n",
    "- create nested conditional logic in code  \n",
    "- print format print using escape sequence (**\\**)"
   ]
  },
  {
   "cell_type": "markdown",
   "metadata": {},
   "source": [
    "# &nbsp;\n",
    "<font size=\"6\" color=\"#B24C00\"  face=\"verdana\"> <B>Tasks</B></font>  "
   ]
  },
  {
   "cell_type": "code",
   "execution_count": 1,
   "metadata": {},
   "outputs": [
    {
     "name": "stdout",
     "output_type": "stream",
     "text": [
      "The new line character is \"\\n\"\n"
     ]
    }
   ],
   "source": [
    "# [ ] print a string that outputs the following exactly: The new line character is \"\\n\"\n",
    "\n",
    "print('The new line character is \"\\\\n\"')\n"
   ]
  },
  {
   "cell_type": "code",
   "execution_count": 2,
   "metadata": {},
   "outputs": [
    {
     "name": "stdout",
     "output_type": "stream",
     "text": [
      "\"That's how we escape!\"\n"
     ]
    }
   ],
   "source": [
    "# [ ] print output that is exactly (with quotes): \"That's how we escape!\"\n",
    "print(\"\\\"That's how we escape!\\\"\")\n",
    "\n",
    "\n",
    "\n"
   ]
  },
  {
   "cell_type": "code",
   "execution_count": 3,
   "metadata": {},
   "outputs": [
    {
     "name": "stdout",
     "output_type": "stream",
     "text": [
      "1\tone\n",
      "22\ttwo\n",
      "333\tthree\n"
     ]
    }
   ],
   "source": [
    "# [ ] with only 1 print statement and using No Space Characters, output the text commented below  \n",
    "\n",
    "# 1       one\n",
    "# 22      two\n",
    "# 333     three\n",
    "print(\"1\\tone\\n22\\ttwo\\n333\\tthree\")"
   ]
  },
  {
   "cell_type": "markdown",
   "metadata": {},
   "source": [
    "# &nbsp;\n",
    "## Program: quote_me() Function\n",
    "quote_me takes a string argument and returns a string that will display surrounded with **added double quotes** if printed  \n",
    "- check if passed string starts with a double quote (`\"\\\"\"`), then surround string with single quotations \n",
    "- if the passed string starts with single quote, or if doesn't start with a quotation mark, then surround with double quotations  \n",
    "\n",
    "Test the function code passing string input as the argument to quote_me() "
   ]
  },
  {
   "cell_type": "code",
   "execution_count": 4,
   "metadata": {},
   "outputs": [
    {
     "name": "stdout",
     "output_type": "stream",
     "text": [
      "\"Hello\"\n",
      "'\"Already quoted\"'\n"
     ]
    }
   ],
   "source": [
    "# [ ] create and test quote_me()\n",
    "\n",
    "def quote_me(string):\n",
    "    if string.startswith('\"'):\n",
    "        return \"'\" + string + \"'\"\n",
    "    else:\n",
    "        return '\"' + string + '\"'\n",
    "\n",
    "# Test\n",
    "print(quote_me('Hello'))\n",
    "print(quote_me('\"Already quoted\"'))\n"
   ]
  },
  {
   "cell_type": "markdown",
   "metadata": {},
   "source": [
    "# &nbsp;\n",
    "### Program: shirt order \n",
    "First get input for color and size  \n",
    "- White has sizes L, M \n",
    "- Blue has sizes M, S  \n",
    "\n",
    "print available or unavailable, then  \n",
    "print the order confirmation of color and size  \n",
    "\n",
    "*\n",
    "**hint**: set a variable \"available = False\" before nested if statements and  \n",
    "change to True if color and size are avaliable*"
   ]
  },
  {
   "cell_type": "code",
   "execution_count": 5,
   "metadata": {},
   "outputs": [
    {
     "name": "stdout",
     "output_type": "stream",
     "text": [
      "Sorry, that color/size combination is unavailable.\n"
     ]
    }
   ],
   "source": [
    "# [ ] create shirt order using nested if \n",
    "\n",
    "color = input(\"Enter shirt color (White/Blue): \").lower()\n",
    "size = input(\"Enter size (S/M/L): \").upper()\n",
    "available = False\n",
    "\n",
    "if color == \"white\":\n",
    "    if size in [\"L\", \"M\"]:\n",
    "        available = True\n",
    "elif color == \"blue\":\n",
    "    if size in [\"M\", \"S\"]:\n",
    "        available = True\n",
    "\n",
    "if available:\n",
    "    print(f\"{color.capitalize()} shirt in size {size} is available. Order confirmed.\")\n",
    "else:\n",
    "    print(\"Sorry, that color/size combination is unavailable.\")\n"
   ]
  },
  {
   "cell_type": "markdown",
   "metadata": {},
   "source": [
    "# &nbsp;\n",
    "## Program: str_analysis() Function\n",
    "Create the str_analysis() function that takes a string argument.  In the body of the function:\n",
    "- Check `if` string is digits  \n",
    "  - if digits: convert to `int` and check `if` greater than 99  \n",
    "    - if greater than 99, print a message about a \"big number\"  \n",
    "    - if not greater than 99, print message about \"small number\"    \n",
    "  - if not digits: check if string isalpha\n",
    "    - if isalpha print message about being all alpha\n",
    "    - if not isalpha print a message about being neither all alpha nor all digit  \n",
    "    \n",
    "call the function with a string from user input "
   ]
  },
  {
   "cell_type": "code",
   "execution_count": 6,
   "metadata": {},
   "outputs": [
    {
     "name": "stdout",
     "output_type": "stream",
     "text": [
      "The string contains only alphabetic characters.\n"
     ]
    }
   ],
   "source": [
    "# [ ] create and test str_analysis()\n",
    "\n",
    "def str_analysis(string):\n",
    "    if string.isdigit():\n",
    "        num = int(string)\n",
    "        if num > 99:\n",
    "            print(\"That's a big number.\")\n",
    "        else:\n",
    "            print(\"That's a small number.\")\n",
    "    elif string.isalpha():\n",
    "        print(\"The string contains only alphabetic characters.\")\n",
    "    else:\n",
    "        print(\"The string is neither purely alphabetic nor numeric.\")\n",
    "\n",
    "# Test\n",
    "user_input = input(\"Enter a string for analysis: \")\n",
    "str_analysis(user_input)\n"
   ]
  },
  {
   "cell_type": "markdown",
   "metadata": {
    "collapsed": true
   },
   "source": [
    "# &nbsp;  \n",
    "### Program: ticket_check() - finds out if a seat is available  \n",
    "Call ticket_check() function with 2 arguments: *section* and *seats* requested and return True or False  \n",
    "- **section** is a string and expects: general, floor\n",
    "- **seats** is an integer and expects: 1 - 10  \n",
    "\n",
    "Check for valid section and seats\n",
    "- if section is *general* (or use startswith \"g\")  \n",
    "  - if seats is 1-10 return True \n",
    "- if section is *floor* (or use starts with \"f\")\n",
    "  - if seats is 1-4 return True  \n",
    "\n",
    "otherwise return False"
   ]
  },
  {
   "cell_type": "code",
   "execution_count": 7,
   "metadata": {},
   "outputs": [
    {
     "name": "stdout",
     "output_type": "stream",
     "text": [
      "True\n",
      "False\n"
     ]
    }
   ],
   "source": [
    "# [ ] create and call ticket_check()\n",
    "#Call ticket_check() function with 2 arguments: section and seats requested and return True or False\n",
    "def ticket_check(section, seats):\n",
    "    section = section.lower()\n",
    "    if section.startswith(\"g\") and 1 <= seats <= 10:\n",
    "        return True\n",
    "    elif section.startswith(\"f\") and 1 <= seats <= 4:\n",
    "        return True\n",
    "    else:\n",
    "        return False\n",
    "\n",
    "# Test\n",
    "print(ticket_check(\"general\", 5))\n",
    "print(ticket_check(\"floor\", 5))\n"
   ]
  },
  {
   "cell_type": "markdown",
   "metadata": {},
   "source": [
    "# Module 4 Practice 2\n",
    "## `while()` loops & increments\n",
    "<font size=\"5\" color=\"#00A0B2\"  face=\"verdana\"> <B>Student will be able to</B></font>\n",
    "- create forever loops using `while` and `break`\n",
    "- use incrementing variables in a while loop\n",
    "- control while loops using Boolean operators"
   ]
  },
  {
   "cell_type": "code",
   "execution_count": 8,
   "metadata": {},
   "outputs": [
    {
     "name": "stdout",
     "output_type": "stream",
     "text": [
      "Total sum: 3\n"
     ]
    }
   ],
   "source": [
    "# [ ] use a \"forever\" while loop to get user input of integers to add to sum, \n",
    "# until a non-digit is entered, then break the loop and print sum\n",
    "sum = 0\n",
    "\n",
    "total = 0\n",
    "while True:\n",
    "    num = input(\"Enter a number (non-digit to quit): \")\n",
    "    if not num.isdigit():\n",
    "        break\n",
    "    total += int(num)\n",
    "print(\"Total sum:\", total)\n"
   ]
  },
  {
   "cell_type": "code",
   "execution_count": 9,
   "metadata": {},
   "outputs": [
    {
     "name": "stdout",
     "output_type": "stream",
     "text": [
      "Try again. Attempts left: 3\n",
      "Try again. Attempts left: 2\n",
      "Correct!\n"
     ]
    }
   ],
   "source": [
    "# [ ] use a while True loop (forever loop) to give 4 chances for input of a correct color in a rainbow\n",
    "# rainbow = \"red orange yellow green blue indigo violet\"\n",
    "\n",
    "rainbow = \"red orange yellow green blue indigo violet\"\n",
    "attempts = 4\n",
    "\n",
    "while attempts > 0:\n",
    "    color = input(\"Guess a rainbow color: \").lower()\n",
    "    if color in rainbow.split():\n",
    "        print(\"Correct!\")\n",
    "        break\n",
    "    else:\n",
    "        attempts -= 1\n",
    "        print(\"Try again. Attempts left:\", attempts)\n"
   ]
  },
  {
   "cell_type": "code",
   "execution_count": null,
   "metadata": {},
   "outputs": [],
   "source": [
    "# [ ] Get input for a book title, keep looping while input is Not in title format (title is every word capitalized)\n",
    "title = \"titleti\"\n",
    "\n",
    "while not title.istitle():\n",
    "    title = input(\"Enter a book title (use Title Case): \")\n",
    "print(\"Title accepted:\", title)\n"
   ]
  },
  {
   "cell_type": "code",
   "execution_count": null,
   "metadata": {},
   "outputs": [],
   "source": [
    "# [ ] create a math quiz question and ask for the solution until the input is correct\n",
    "while True:\n",
    "    ans = input(\"What is 5 + 7? \")\n",
    "    if ans.isdigit() and int(ans) == 12:\n",
    "        print(\"Correct!\")\n",
    "        break\n",
    "    else:\n",
    "        print(\"Try again.\")\n",
    "\n"
   ]
  },
  {
   "cell_type": "markdown",
   "metadata": {},
   "source": [
    "### Fix the Error"
   ]
  },
  {
   "cell_type": "code",
   "execution_count": null,
   "metadata": {},
   "outputs": [
    {
     "name": "stdout",
     "output_type": "stream",
     "text": [
      "Sorry, not a winner.\n",
      "You win!\n",
      "Sorry, not a winner.\n",
      "You win!\n"
     ]
    }
   ],
   "source": [
    "tickets = int(input(\"Enter tickets remaining (0 to quit): \"))\n",
    "while tickets > 0:\n",
    "    if tickets % 3 == 0:\n",
    "        print(\"You win!\")\n",
    "    else:\n",
    "        print(\"Sorry, not a winner.\")\n",
    "    tickets = int(input(\"Enter tickets remaining (0 to quit): \"))\n",
    "print(\"Game ended.\")\n"
   ]
  },
  {
   "cell_type": "markdown",
   "metadata": {},
   "source": [
    "### create a function: quiz_item()  that asks a question and tests if input is correct  \n",
    "- quiz_item()has 2 parameter **strings**: question and solution  \n",
    "- shows question, gets answer input  \n",
    "- returns True if `answer == solution` or continues to ask question until correct answer is provided  \n",
    "- use a while loop\n",
    "\n",
    "create 2 or more quiz questions that call quiz_item()  \n",
    "**Hint**: provide multiple choice or T/F answers"
   ]
  },
  {
   "cell_type": "code",
   "execution_count": null,
   "metadata": {},
   "outputs": [],
   "source": [
    "# Create quiz_item() and 2 or more quiz questions that call quiz_item()\n",
    "\n",
    "#quiz_item()has 2 parameter strings: question and solution\n",
    "def quiz_item(question, solution):\n",
    "    while True:\n",
    "        answer = input(question + \" \")\n",
    "        if answer.lower() == solution.lower():\n",
    "            print(\"Correct!\\n\")\n",
    "            return True\n",
    "        else:\n",
    "            print(\"Try again.\")\n",
    "\n",
    "# Test Questions\n",
    "quiz_item(\"What is the capital of France? (a) Berlin (b) Paris (c) Rome\", \"b\")\n",
    "quiz_item(\"Is Python a compiled language? (True/False)\", \"False\")\n",
    "\n"
   ]
  },
  {
   "cell_type": "markdown",
   "metadata": {
    "collapsed": true
   },
   "source": [
    "[Terms of use](http://go.microsoft.com/fwlink/?LinkID=206977) &nbsp; [Privacy & cookies](https://go.microsoft.com/fwlink/?LinkId=521839) &nbsp; © 2017 Microsoft"
   ]
  }
 ],
 "metadata": {
  "anaconda-cloud": {},
  "kernelspec": {
   "display_name": "Python 3",
   "language": "python",
   "name": "python3"
  },
  "language_info": {
   "codemirror_mode": {
    "name": "ipython",
    "version": 3
   },
   "file_extension": ".py",
   "mimetype": "text/x-python",
   "name": "python",
   "nbconvert_exporter": "python",
   "pygments_lexer": "ipython3",
   "version": "3.13.2"
  }
 },
 "nbformat": 4,
 "nbformat_minor": 1
}
