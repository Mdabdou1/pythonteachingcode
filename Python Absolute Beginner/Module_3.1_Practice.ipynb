{
 "cells": [
  {
   "cell_type": "markdown",
   "metadata": {},
   "source": [
    "# Module 3 Practice 1\n",
    "## Conditionals \n",
    "<font size=\"5\" color=\"#00A0B2\"  face=\"verdana\"> <B>Student will be able to</B></font>  \n",
    "- **control code flow with `if`... `else` conditional logic**  \n",
    "  - using Boolean string methods (`.isupper(), .isalpha(), .startswith()...`)  \n",
    "  - using comparision (`>, <, >=, <=, ==, !=`)  \n",
    "  - using Strings in comparisons  \n",
    "\n",
    "## `if else`\n"
   ]
  },
  {
   "cell_type": "code",
   "execution_count": 7,
   "metadata": {},
   "outputs": [
    {
     "name": "stdout",
     "output_type": "stream",
     "text": [
      "Input your age (use only whole numbers): 23\n",
      "Age's first type is:  <class 'int'>\n",
      "Age's second type is:  <class 'int'>\n",
      "In ten years you will be 33.\n"
     ]
    }
   ],
   "source": [
    "# [ ] input a variable: age as digit and cast to int\n",
    "# if age greater than or equal to 12 then print message on age in 10 years \n",
    "# or else print message \"It is good to be\" age\n",
    "age = int(input(\"Input your age (use only whole numbers): \"))\n",
    "print(\"Age's first type is: \",type(age))\n",
    "age = int(age)\n",
    "print(\"Age's second type is: \",type(age))\n",
    "\n",
    "if age >= 12:\n",
    "    print(\"In ten years you will be \"+str(age+10)+\".\")\n",
    "else:\n",
    "    print(\"It is good to be \"+str(age)+\".\")\n",
    "\n",
    "\n",
    "\n"
   ]
  },
  {
   "cell_type": "code",
   "execution_count": 1,
   "metadata": {
    "collapsed": true
   },
   "outputs": [
    {
     "name": "stdout",
     "output_type": "stream",
     "text": [
      "number greater than 100 is False\n"
     ]
    }
   ],
   "source": [
    "# [ ] input a number \n",
    "# if number IS a digit string then cast to int\n",
    "# print number \"greater than 100 is\" True/False\n",
    "# if number is NOT a digit string then message the user that \"only int is accepted\"\n",
    "\n",
    "\n",
    "# [ ] input a number\n",
    "num_input = input(\"Enter a number: \")\n",
    "\n",
    "# check if the input is a digit\n",
    "if num_input.isdigit():\n",
    "    # cast to int\n",
    "    number = int(num_input)\n",
    "    # check if greater than 100\n",
    "    print(\"number greater than 100 is\", number > 100)\n",
    "else:\n",
    "    # message for invalid input\n",
    "    print(\"Only int is accepted\")\n"
   ]
  },
  {
   "cell_type": "markdown",
   "metadata": {},
   "source": [
    "### Guessing a letter A-Z  \n",
    "**check_guess()** takes 2 string arguments: **letter and guess** (both expect single alphabetical character)   \n",
    "    - if guess is not an alpha character print invalid and return False\n",
    "    - test and print if guess is \"high\" or \"low\" and return False\n",
    "    - test and print if guess is \"correct\" and return True"
   ]
  },
  {
   "cell_type": "code",
   "execution_count": null,
   "metadata": {
    "collapsed": true
   },
   "outputs": [
    {
     "name": "stdout",
     "output_type": "stream",
     "text": [
      "Your guess is too low.\n"
     ]
    },
    {
     "data": {
      "text/plain": [
       "False"
      ]
     },
     "execution_count": 2,
     "metadata": {},
     "output_type": "execute_result"
    }
   ],
   "source": [
    "# [ ] create check_guess()\n",
    "# call with test\n",
    "def check_guess(letter, guess):\n",
    "    # Check if guess is a single alphabetical character\n",
    "    if not guess.isalpha() or len(guess) != 1:\n",
    "        print(\"Invalid input: please enter a single alphabetical character.\")\n",
    "        return False\n",
    "\n",
    "    # Normalize to uppercase to compare easily (optional)\n",
    "    letter = letter.upper()\n",
    "    guess = guess.upper()\n",
    "\n",
    "    # Compare guess with letter\n",
    "    if guess < letter:\n",
    "        print(\"Your guess is too low.\")\n",
    "        return False\n",
    "    elif guess > letter:\n",
    "        print(\"Your guess is too high.\")\n",
    "        return False\n",
    "    else:\n",
    "        print(\"Correct!\")\n",
    "        return True\n",
    "\n",
    "\n",
    "\n",
    "\n"
   ]
  },
  {
   "cell_type": "code",
   "execution_count": 3,
   "metadata": {
    "collapsed": true
   },
   "outputs": [
    {
     "name": "stdout",
     "output_type": "stream",
     "text": [
      "Your guess is too low.\n"
     ]
    },
    {
     "data": {
      "text/plain": [
       "False"
      ]
     },
     "execution_count": 3,
     "metadata": {},
     "output_type": "execute_result"
    }
   ],
   "source": [
    "# [ ] call check_guess with user input\n",
    "secret_letter = 'G'\n",
    "user_guess = input(\"Guess a letter (A-Z): \")\n",
    "check_guess(secret_letter, user_guess)\n"
   ]
  },
  {
   "cell_type": "markdown",
   "metadata": {},
   "source": [
    "### Letter Guess\n",
    "**create letter_guess() function that gives user 3 guesses**\n",
    "- takes a letter character argument for the answer letter\n",
    "- gets user input for letter guess  \n",
    "- calls check_guess() with answer and guess\n",
    "- End letter_guess if \n",
    "    - check_guess() equals True, return True  \n",
    "    - or after 3 failed attempts, return False"
   ]
  },
  {
   "cell_type": "code",
   "execution_count": 4,
   "metadata": {
    "collapsed": true
   },
   "outputs": [
    {
     "name": "stdout",
     "output_type": "stream",
     "text": [
      "Correct!\n",
      "You guessed it!\n"
     ]
    }
   ],
   "source": [
    "# [ ] create letter_guess() function, call the function to test\n",
    "\n",
    "\n",
    "def check_guess(letter, guess):\n",
    "    # Check if guess is a single alphabetical character\n",
    "    if not guess.isalpha() or len(guess) != 1:\n",
    "        print(\"Invalid input: please enter a single alphabetical character.\")\n",
    "        return False\n",
    "\n",
    "    # Normalize to uppercase to compare easily\n",
    "    letter = letter.upper()\n",
    "    guess = guess.upper()\n",
    "\n",
    "    # Compare guess with letter\n",
    "    if guess < letter:\n",
    "        print(\"Your guess is too low.\")\n",
    "        return False\n",
    "    elif guess > letter:\n",
    "        print(\"Your guess is too high.\")\n",
    "        return False\n",
    "    else:\n",
    "        print(\"Correct!\")\n",
    "        return True\n",
    "\n",
    "def letter_guess(answer):\n",
    "    attempts = 3\n",
    "    for attempt in range(attempts):\n",
    "        guess = input(f\"Attempt {attempt + 1} - Guess the letter (A-Z): \")\n",
    "        if check_guess(answer, guess):\n",
    "            return True\n",
    "    print(\"Out of attempts!\")\n",
    "    return False\n",
    "\n",
    "# Example usage\n",
    "secret_letter = 'M'\n",
    "result = letter_guess(secret_letter)\n",
    "\n",
    "if result:\n",
    "    print(\"You guessed it!\")\n",
    "else:\n",
    "    print(\"Better luck next time.\")\n"
   ]
  },
  {
   "cell_type": "markdown",
   "metadata": {},
   "source": [
    "### Pet Conversation\n",
    "**ask the user for a sentence about a pet and then reply**  \n",
    "- get user input in variable: about_pet\n",
    "- using a series of **if** statements respond with appropriate conversation\n",
    "  - check if \"dog\" is in the string about_pet (sample reply \"Ah, a dog\")\n",
    "  - check if \"cat\" is in the string about_pet\n",
    "  - check if 1 or more animal is in string about_pet\n",
    "- no need for **else**'s\n",
    "- finish with thanking for the story"
   ]
  },
  {
   "cell_type": "code",
   "execution_count": 5,
   "metadata": {
    "collapsed": true
   },
   "outputs": [
    {
     "name": "stdout",
     "output_type": "stream",
     "text": [
      "Thanks for sharing your pet story!\n"
     ]
    }
   ],
   "source": [
    "# [ ] complete pet conversation\n",
    "\n",
    "# Get user input\n",
    "about_pet = input(\"Tell me something about a pet: \")\n",
    "\n",
    "# Convert to lowercase for case-insensitive matching\n",
    "about_pet = about_pet.lower()\n",
    "\n",
    "# Respond to known animals\n",
    "if \"dog\" in about_pet:\n",
    "    print(\"Ah, a dog! They're such loyal companions.\")\n",
    "if \"cat\" in about_pet:\n",
    "    print(\"Ah, a cat! They're so independent and curious.\")\n",
    "if \"bird\" in about_pet:\n",
    "    print(\"Ah, a bird! They love to sing.\")\n",
    "if \"fish\" in about_pet:\n",
    "    print(\"Ah, a fish! Peaceful and relaxing to watch.\")\n",
    "\n",
    "# Finish the conversation\n",
    "print(\"Thanks for sharing your pet story!\")\n"
   ]
  },
  {
   "cell_type": "markdown",
   "metadata": {},
   "source": [
    "# Module 3 Practice 2\n",
    "## conditionals, type, and mathematics extended   \n",
    "&nbsp;\n",
    "<font size=\"5\" color=\"#00A0B2\"  face=\"verdana\"> <B>Student will be able to</B></font>  \n",
    "- code more than two choices using **`elif`** \n",
    "- gather numeric input using type casting  \n",
    "- perform subtraction, multiplication and division operations in code  &nbsp;  \n"
   ]
  },
  {
   "cell_type": "markdown",
   "metadata": {},
   "source": [
    "# &nbsp;  \n",
    "<font size=\"6\" color=\"#B24C00\"  face=\"verdana\"> <B>Tasks</B></font>"
   ]
  },
  {
   "cell_type": "markdown",
   "metadata": {},
   "source": [
    "### Rainbow colors\n",
    "ask for input of a favorite rainbow color first letter: ROYGBIV  \n",
    "\n",
    "Using `if`, `elif`, and `else`:  \n",
    "- print the color matching the letter  \n",
    "    - R = Red  \n",
    "    - O = Orange  \n",
    "    - Y = Yellow  \n",
    "    - G = Green\n",
    "    - B = Blue\n",
    "    - I = Indigo\n",
    "    - V = Violet\n",
    "    - else print \"no match\"\n"
   ]
  },
  {
   "cell_type": "code",
   "execution_count": null,
   "metadata": {},
   "outputs": [],
   "source": [
    "# [ ] complete rainbow colors\n",
    "letter=input(\"Enter Color Letter\")\n",
    "letter = letter.upper()\n",
    "if letter == \"R\":\n",
    "    print( \"Red\")\n",
    "elif letter == \"O\":\n",
    "    print( \"Orange\")\n",
    "elif letter == \"Y\":\n",
    "    print( \"Yellow\")\n",
    "elif letter == \"G\":\n",
    "    print( \"Green\")\n",
    "elif letter == \"B\":\n",
    "    print( \"Blue\")\n",
    "elif letter == \"I\":\n",
    "    print( \"Indigo\")\n",
    "elif letter == \"V\":\n",
    "    print( \"Violet\")\n",
    "else:\n",
    "    print( \"no match\")\n",
    "\n"
   ]
  },
  {
   "cell_type": "code",
   "execution_count": 7,
   "metadata": {},
   "outputs": [
    {
     "name": "stdout",
     "output_type": "stream",
     "text": [
      "Result: Red\n"
     ]
    }
   ],
   "source": [
    "# [ ] make the code above into a function rainbow_color() that has a string parameter, \n",
    "# get input and call the function and return the matching color as a string or \"no match\" message.\n",
    "# Call the function and print the return string.\n",
    "\n",
    "def rainbow_color(letter):\n",
    "    letter = letter.upper()\n",
    "    if letter == \"R\":\n",
    "        return \"Red\"\n",
    "    elif letter == \"O\":\n",
    "        return \"Orange\"\n",
    "    elif letter == \"Y\":\n",
    "        return \"Yellow\"\n",
    "    elif letter == \"G\":\n",
    "        return \"Green\"\n",
    "    elif letter == \"B\":\n",
    "        return \"Blue\"\n",
    "    elif letter == \"I\":\n",
    "        return \"Indigo\"\n",
    "    elif letter == \"V\":\n",
    "        return \"Violet\"\n",
    "    else:\n",
    "        return \"no match\"\n",
    "user_input = input(\"Enter a letter from ROYGBIV : \")\n",
    "result = rainbow_color(user_input)\n",
    "print(\"Result:\", result)\n"
   ]
  },
  {
   "cell_type": "markdown",
   "metadata": {},
   "source": [
    "# &nbsp;  \n",
    "**Create function age_20() that adds or subtracts 20 from your age for a return value based on current age** (use `if`) \n",
    "- call the funtion with user input and then use the return value in a sentence  \n",
    "example `age_20(25)` returns **5**: \n",
    "> \"5 years old, 20 years difference from now\""
   ]
  },
  {
   "cell_type": "code",
   "execution_count": 8,
   "metadata": {},
   "outputs": [],
   "source": [
    "# [ ] complete age_20()\n",
    "\n",
    "def age_20(age):\n",
    "    if age >= 20:\n",
    "        return age - 20\n",
    "    else:\n",
    "        return age + 20"
   ]
  },
  {
   "cell_type": "markdown",
   "metadata": {},
   "source": [
    "**create a function rainbow_or_age that takes a string argument**\n",
    "- if argument is a digit return the value of calling age_20() with the str value cast as **`int`** \n",
    "- if argument is an alphabetical character return the value of calling rainbow_color() with the str\n",
    "- if neither return FALSE"
   ]
  },
  {
   "cell_type": "code",
   "execution_count": 9,
   "metadata": {},
   "outputs": [
    {
     "name": "stdout",
     "output_type": "stream",
     "text": [
      "Result: Orange\n"
     ]
    }
   ],
   "source": [
    "# [ ]  create rainbow_or_age()\n",
    "\n",
    "def rainbow_or_age(value):\n",
    "    if value.isdigit():\n",
    "        return age_20(int(value))\n",
    "    elif value.isalpha():\n",
    "        return rainbow_color(value)\n",
    "    else:\n",
    "        return False\n",
    "user_input = input(\"Enter a letter from ROYGBIV or your age: \")\n",
    "result = rainbow_or_age(user_input)\n",
    "print(\"Result:\", result)"
   ]
  },
  {
   "cell_type": "code",
   "execution_count": 10,
   "metadata": {},
   "outputs": [
    {
     "name": "stdout",
     "output_type": "stream",
     "text": [
      "Sum is: 4\n"
     ]
    }
   ],
   "source": [
    "# [ ]  add 2 numbers from input using a cast to integer and display the answer \n",
    "\n",
    "num1 = int(input(\"Enter first number to add: \"))\n",
    "num2 = int(input(\"Enter second number to add: \"))\n",
    "print(\"Sum is:\", num1 + num2)"
   ]
  },
  {
   "cell_type": "code",
   "execution_count": 11,
   "metadata": {},
   "outputs": [
    {
     "name": "stdout",
     "output_type": "stream",
     "text": [
      "The answer is: 12\n"
     ]
    }
   ],
   "source": [
    "# [ ] Multiply 2 numbers from input using cast and save the answer as part of a string \"the answer is...\"\n",
    "# display the string using print\n",
    "num3 = int(input(\"Enter first number to multiply: \"))\n",
    "num4 = int(input(\"Enter second number to multiply: \"))\n",
    "product = num3 * num4\n",
    "print(\"The answer is:\", str(product))\n"
   ]
  },
  {
   "cell_type": "code",
   "execution_count": 12,
   "metadata": {},
   "outputs": [
    {
     "name": "stdout",
     "output_type": "stream",
     "text": [
      "Average is: 3.5\n"
     ]
    }
   ],
   "source": [
    "# [ ] get input of 2 numbers and display the average: (num1 + num2) divided by 2\n",
    "\n",
    "n1 = float(input(\"Enter first number for average: \"))\n",
    "n2 = float(input(\"Enter second number for average: \"))\n",
    "average = (n1 + n2) / 2\n",
    "print(\"Average is:\", average)"
   ]
  },
  {
   "cell_type": "code",
   "execution_count": 13,
   "metadata": {},
   "outputs": [
    {
     "name": "stdout",
     "output_type": "stream",
     "text": [
      "Difference: 1\n"
     ]
    }
   ],
   "source": [
    "# [ ] get input of 2 numbers and subtract the largest from the smallest (use an if statement to see which is larger)\n",
    "# show the answer\n",
    "\n",
    "a = int(input(\"Enter first number for subtraction: \"))\n",
    "b = int(input(\"Enter second number for subtraction: \"))\n",
    "if a > b:\n",
    "    print(\"Difference:\", a - b)\n",
    "else:\n",
    "    print(\"Difference:\", b - a)"
   ]
  },
  {
   "cell_type": "code",
   "execution_count": 14,
   "metadata": {},
   "outputs": [
    {
     "name": "stdout",
     "output_type": "stream",
     "text": [
      "Integer division result: 1\n"
     ]
    }
   ],
   "source": [
    "# [ ] Divide a larger number by a smaller number and print the integer part of the result\n",
    "# don't divide by zero! if a zero is input make the result zero\n",
    "# [ ] cast the answer to an integer to cut off the decimals and print the result\n",
    "x = int(input(\"Enter first number for division: \"))\n",
    "y = int(input(\"Enter second number for division: \"))\n",
    "if x == 0 or y == 0:\n",
    "    print(\"Result: 0 (division by zero not allowed)\")\n",
    "else:\n",
    "    if x > y:\n",
    "        print(\"Integer division result:\", int(x / y))\n",
    "    else:\n",
    "        print(\"Integer division result:\", int(y / x))\n"
   ]
  },
  {
   "cell_type": "markdown",
   "metadata": {
    "collapsed": true
   },
   "source": [
    "[Terms of use](http://go.microsoft.com/fwlink/?LinkID=206977) &nbsp; [Privacy & cookies](https://go.microsoft.com/fwlink/?LinkId=521839) &nbsp; © 2017 Microsoft"
   ]
  }
 ],
 "metadata": {
  "anaconda-cloud": {},
  "kernelspec": {
   "display_name": "Python 3",
   "language": "python",
   "name": "python3"
  },
  "language_info": {
   "codemirror_mode": {
    "name": "ipython",
    "version": 3
   },
   "file_extension": ".py",
   "mimetype": "text/x-python",
   "name": "python",
   "nbconvert_exporter": "python",
   "pygments_lexer": "ipython3",
   "version": "3.13.2"
  }
 },
 "nbformat": 4,
 "nbformat_minor": 1
}
